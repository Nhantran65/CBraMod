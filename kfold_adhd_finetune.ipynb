{
 "cells": [
  {
   "cell_type": "markdown",
   "id": "7c906cb0",
   "metadata": {},
   "source": [
    "# CBraMod ADHD Fine-tuning with 5-Fold Cross Validation\n",
    "\n",
    "Đây là notebook để fine-tune CBraMod trên dataset ADHD với 5-fold cross validation:\n",
    "- **Stratified K-Fold**: Đảm bảo cân bằng classes trong mỗi fold\n",
    "- **Frozen Backbone**: Chỉ train classifier layer cuối để tăng tốc\n",
    "- **Real Labels**: Sử dụng labels thật từ dataset (ADHD vs Control)\n",
    "- **Comprehensive Evaluation**: Accuracy, F1-score, Kappa cho mỗi fold"
   ]
  },
  {
   "cell_type": "code",
   "execution_count": 1,
   "id": "4cfa8f6f",
   "metadata": {},
   "outputs": [
    {
     "name": "stderr",
     "output_type": "stream",
     "text": [
      "c:\\Users\\admin\\AppData\\Local\\anaconda3\\envs\\py310\\lib\\site-packages\\tqdm\\auto.py:21: TqdmWarning: IProgress not found. Please update jupyter and ipywidgets. See https://ipywidgets.readthedocs.io/en/stable/user_install.html\n",
      "  from .autonotebook import tqdm as notebook_tqdm\n"
     ]
    },
    {
     "name": "stdout",
     "output_type": "stream",
     "text": [
      "✅ Libraries imported and seeds set\n"
     ]
    }
   ],
   "source": [
    "# Import libraries\n",
    "import numpy as np\n",
    "import pandas as pd\n",
    "import torch\n",
    "import torch.nn as nn\n",
    "import random\n",
    "import os\n",
    "from sklearn.model_selection import StratifiedKFold, train_test_split\n",
    "from sklearn.preprocessing import LabelEncoder\n",
    "from sklearn.metrics import accuracy_score, f1_score, cohen_kappa_score, confusion_matrix, classification_report\n",
    "from torch.utils.data import Dataset, DataLoader\n",
    "from tqdm import tqdm\n",
    "import matplotlib.pyplot as plt\n",
    "import seaborn as sns\n",
    "\n",
    "# Set random seeds for reproducibility\n",
    "def setup_seed(seed=3407):\n",
    "    torch.manual_seed(seed)\n",
    "    torch.cuda.manual_seed_all(seed)\n",
    "    np.random.seed(seed)\n",
    "    random.seed(seed)\n",
    "    torch.backends.cudnn.deterministic = True\n",
    "\n",
    "setup_seed()\n",
    "print(\"✅ Libraries imported and seeds set\")"
   ]
  },
  {
   "cell_type": "code",
   "execution_count": 2,
   "id": "eba93d5c",
   "metadata": {},
   "outputs": [
    {
     "name": "stdout",
     "output_type": "stream",
     "text": [
      "Loading data from: ./datasets/adhdata.csv\n",
      "🔄 Loading SAMPLE dataset (50,000 samples)...\n",
      "💡 Training time: ~5-10 minutes total for 5-fold CV\n",
      "⚠️  Using sample may reduce model performance compared to full dataset\n",
      "Total available rows: 2,166,383\n",
      "Total available rows: 2,166,383\n",
      "Random sampling 50,000 from 2,166,383 rows...\n",
      "Random sampling 50,000 from 2,166,383 rows...\n",
      "📊 Final loaded dataset shape: (50000, 21)\n",
      "📊 Total samples: 50,000\n",
      "🔄 Extracting features and labels...\n",
      "Real classes: ['ADHD' 'Control']\n",
      "Class distribution: [27783 22217]\n",
      "  ADHD: 27,783 samples (55.6%)\n",
      "  Control: 22,217 samples (44.4%)\n",
      "🔄 Normalizing data...\n",
      "\n",
      "============================================================\n",
      "📊 FINAL DATASET SUMMARY\n",
      "============================================================\n",
      "Dataset mode: SAMPLE DATASET\n",
      "Total samples: 50,000\n",
      "Dataset shape: (50000, 19, 1)\n",
      "ADHD ratio: 0.444\n",
      "Control ratio: 0.556\n",
      "💾 Memory usage: 0.00 GB\n",
      "⏱️  Estimated training time: 5-10 minutes (faster but potentially lower accuracy)\n",
      "🎯 Ready for K-Fold Cross Validation!\n",
      "============================================================\n",
      "\n",
      "💡 To switch dataset mode:\n",
      "   - Set USE_FULL_DATASET = True for maximum performance (2.1M samples)\n",
      "   - Set USE_FULL_DATASET = False for faster training (50,000 samples)\n",
      "   - Adjust SAMPLE_SIZE variable to change sample size\n",
      "📊 Final loaded dataset shape: (50000, 21)\n",
      "📊 Total samples: 50,000\n",
      "🔄 Extracting features and labels...\n",
      "Real classes: ['ADHD' 'Control']\n",
      "Class distribution: [27783 22217]\n",
      "  ADHD: 27,783 samples (55.6%)\n",
      "  Control: 22,217 samples (44.4%)\n",
      "🔄 Normalizing data...\n",
      "\n",
      "============================================================\n",
      "📊 FINAL DATASET SUMMARY\n",
      "============================================================\n",
      "Dataset mode: SAMPLE DATASET\n",
      "Total samples: 50,000\n",
      "Dataset shape: (50000, 19, 1)\n",
      "ADHD ratio: 0.444\n",
      "Control ratio: 0.556\n",
      "💾 Memory usage: 0.00 GB\n",
      "⏱️  Estimated training time: 5-10 minutes (faster but potentially lower accuracy)\n",
      "🎯 Ready for K-Fold Cross Validation!\n",
      "============================================================\n",
      "\n",
      "💡 To switch dataset mode:\n",
      "   - Set USE_FULL_DATASET = True for maximum performance (2.1M samples)\n",
      "   - Set USE_FULL_DATASET = False for faster training (50,000 samples)\n",
      "   - Adjust SAMPLE_SIZE variable to change sample size\n"
     ]
    }
   ],
   "source": [
    "# Load ADHD Dataset - CONFIGURABLE DATASET SIZE\n",
    "import pandas as pd\n",
    "from sklearn.preprocessing import LabelEncoder\n",
    "from sklearn.model_selection import train_test_split\n",
    "\n",
    "# 🎯 DATASET CONFIGURATION - CHOOSE YOUR OPTION\n",
    "USE_FULL_DATASET = False  # Set False for sample dataset, True for full dataset (2.1M samples)\n",
    "SAMPLE_SIZE = 50000      # Number of samples if using sample dataset\n",
    "\n",
    "# Load the CSV data\n",
    "csv_path = \"./datasets/adhdata.csv\"\n",
    "print(f\"Loading data from: {csv_path}\")\n",
    "\n",
    "if USE_FULL_DATASET:\n",
    "    print(\"🔄 Loading FULL dataset (2.1M+ samples)...\")\n",
    "    print(\"⚠️  This may take a few minutes but will use ALL available data for maximum performance!\")\n",
    "    print(\"💡 Training time: ~15-20 minutes total for 5-fold CV\")\n",
    "    \n",
    "    # Load ALL data - no sampling!\n",
    "    df = pd.read_csv(csv_path, encoding='utf-8')\n",
    "    print(f\"✅ Loaded FULL dataset shape: {df.shape}\")\n",
    "    \n",
    "else:\n",
    "    print(f\"🔄 Loading SAMPLE dataset ({SAMPLE_SIZE:,} samples)...\")\n",
    "    print(\"💡 Training time: ~5-10 minutes total for 5-fold CV\")\n",
    "    print(\"⚠️  Using sample may reduce model performance compared to full dataset\")\n",
    "    \n",
    "    # Get total number of rows first\n",
    "    total_rows = sum(1 for line in open(csv_path, encoding='utf-8')) - 1  # -1 for header\n",
    "    print(f\"Total available rows: {total_rows:,}\")\n",
    "    \n",
    "    if total_rows > SAMPLE_SIZE:\n",
    "        # Random sampling with stratification to maintain class balance\n",
    "        np.random.seed(42)  # Reproducible sampling\n",
    "        skip_rows = sorted(np.random.choice(range(1, total_rows + 1), \n",
    "                                          size=total_rows - SAMPLE_SIZE, \n",
    "                                          replace=False))\n",
    "        print(f\"Random sampling {SAMPLE_SIZE:,} from {total_rows:,} rows...\")\n",
    "        df = pd.read_csv(csv_path, skiprows=skip_rows, encoding='utf-8')\n",
    "    else:\n",
    "        print(\"Loading all available data...\")\n",
    "        df = pd.read_csv(csv_path, encoding='utf-8')\n",
    "\n",
    "print(f\"📊 Final loaded dataset shape: {df.shape}\")\n",
    "print(f\"📊 Total samples: {len(df):,}\")\n",
    "\n",
    "# EEG channels (19 channels)\n",
    "eeg_channels = ['Fp1', 'Fp2', 'F3', 'F4', 'C3', 'C4', 'P3', 'P4', 'O1', 'O2',\n",
    "               'F7', 'F8', 'T7', 'T8', 'P7', 'P8', 'Fz', 'Cz', 'Pz']\n",
    "\n",
    "# Extract EEG features and labels\n",
    "print(\"🔄 Extracting features and labels...\")\n",
    "X = df[eeg_channels].values.astype(np.float32)\n",
    "y = df['Class'].values\n",
    "\n",
    "# Encode labels\n",
    "label_encoder = LabelEncoder()\n",
    "y_encoded = label_encoder.fit_transform(y)\n",
    "\n",
    "print(f\"Real classes: {label_encoder.classes_}\")\n",
    "print(f\"Class distribution: {np.bincount(y_encoded)}\")\n",
    "class_percentages = np.bincount(y_encoded) / len(y_encoded) * 100\n",
    "for i, cls in enumerate(label_encoder.classes_):\n",
    "    print(f\"  {cls}: {np.bincount(y_encoded)[i]:,} samples ({class_percentages[i]:.1f}%)\")\n",
    "\n",
    "# Normalize the EEG data (z-score normalization)\n",
    "print(\"🔄 Normalizing data...\")\n",
    "X_mean = np.mean(X, axis=0, keepdims=True)\n",
    "X_std = np.std(X, axis=0, keepdims=True) + 1e-8\n",
    "X = (X - X_mean) / X_std\n",
    "\n",
    "# Reshape for model: (samples, channels, time_points)\n",
    "X = np.expand_dims(X, axis=-1)  # Shape: (samples, 19, 1)\n",
    "\n",
    "# Store data for k-fold\n",
    "all_samples = X\n",
    "all_labels = y_encoded\n",
    "\n",
    "print(f\"\\n{'='*60}\")\n",
    "print(f\"📊 FINAL DATASET SUMMARY\")\n",
    "print(f\"{'='*60}\")\n",
    "print(f\"Dataset mode: {'FULL DATASET' if USE_FULL_DATASET else 'SAMPLE DATASET'}\")\n",
    "print(f\"Total samples: {len(all_samples):,}\")\n",
    "print(f\"Dataset shape: {all_samples.shape}\")\n",
    "print(f\"ADHD ratio: {np.mean(all_labels):.3f}\")\n",
    "print(f\"Control ratio: {1-np.mean(all_labels):.3f}\")\n",
    "\n",
    "# Memory usage estimation\n",
    "memory_gb = all_samples.nbytes / (1024**3)\n",
    "print(f\"💾 Memory usage: {memory_gb:.2f} GB\")\n",
    "\n",
    "# Expected training time estimation\n",
    "if USE_FULL_DATASET:\n",
    "    estimated_time = \"15-20 minutes (higher accuracy expected)\"\n",
    "else:\n",
    "    estimated_time = \"5-10 minutes (faster but potentially lower accuracy)\"\n",
    "    \n",
    "print(f\"⏱️  Estimated training time: {estimated_time}\")\n",
    "print(f\"🎯 Ready for K-Fold Cross Validation!\")\n",
    "print(f\"{'='*60}\")\n",
    "\n",
    "# Instructions for switching modes\n",
    "print(f\"\\n💡 To switch dataset mode:\")\n",
    "print(f\"   - Set USE_FULL_DATASET = True for maximum performance (2.1M samples)\")\n",
    "print(f\"   - Set USE_FULL_DATASET = False for faster training ({SAMPLE_SIZE:,} samples)\")\n",
    "print(f\"   - Adjust SAMPLE_SIZE variable to change sample size\")"
   ]
  },
  {
   "cell_type": "code",
   "execution_count": 3,
   "id": "2504ab04",
   "metadata": {},
   "outputs": [
    {
     "name": "stdout",
     "output_type": "stream",
     "text": [
      "✅ einops already installed\n"
     ]
    }
   ],
   "source": [
    "# Install missing packages\n",
    "import subprocess\n",
    "import sys\n",
    "\n",
    "def install_package(package):\n",
    "    try:\n",
    "        subprocess.check_call([sys.executable, \"-m\", \"pip\", \"install\", package])\n",
    "        print(f\"✅ Successfully installed {package}\")\n",
    "    except subprocess.CalledProcessError as e:\n",
    "        print(f\"❌ Failed to install {package}: {e}\")\n",
    "\n",
    "# Install einops if not available\n",
    "try:\n",
    "    import einops\n",
    "    print(\"✅ einops already installed\")\n",
    "except ImportError:\n",
    "    print(\"Installing einops...\")\n",
    "    install_package(\"einops\")\n",
    "    import einops\n",
    "    print(\"✅ einops installed and imported\")"
   ]
  },
  {
   "cell_type": "code",
   "execution_count": 4,
   "id": "68cd1234",
   "metadata": {},
   "outputs": [
    {
     "name": "stdout",
     "output_type": "stream",
     "text": [
      "Using device: cuda\n",
      "Loading pretrained weights from: ./pretrained_weights/pretrained_weights.pth\n",
      "Pretrained weights loaded successfully!\n",
      "✅ Model created successfully\n",
      "🧊 Backbone frozen - only fine-tuning classifier\n",
      "Total parameters: 4,884,202\n",
      "Trainable parameters: 402\n",
      "✅ Model ready for training!\n",
      "Pretrained weights loaded successfully!\n",
      "✅ Model created successfully\n",
      "🧊 Backbone frozen - only fine-tuning classifier\n",
      "Total parameters: 4,884,202\n",
      "Trainable parameters: 402\n",
      "✅ Model ready for training!\n"
     ]
    }
   ],
   "source": [
    "# Load CBraMod Model\n",
    "from models.model_for_adhd import Model\n",
    "\n",
    "# Device setup\n",
    "device = torch.device(\"cuda\" if torch.cuda.is_available() else \"cpu\")\n",
    "print(f\"Using device: {device}\")\n",
    "\n",
    "# Model configuration\n",
    "class Args:\n",
    "    num_subjects = 121\n",
    "    window_size = 200\n",
    "    encoding_dims = [256, 256]\n",
    "    ff_hidden_size = 256\n",
    "    attn_heads = 8\n",
    "    depth = 12\n",
    "    dropout_rate = 0.4\n",
    "    freeze_backbone = True  # Freeze backbone for faster training\n",
    "    num_of_classes = 2      # ADHD vs Control\n",
    "    use_pretrained_weights = True\n",
    "    foundation_dir = './pretrained_weights/pretrained_weights.pth'\n",
    "    frozen = True           # Freeze backbone\n",
    "    cuda = 0\n",
    "\n",
    "args = Args()\n",
    "\n",
    "def create_model():\n",
    "    \"\"\"Create and initialize CBraMod model\"\"\"\n",
    "    model = Model(args)\n",
    "    print(\"✅ Model created successfully\")\n",
    "    \n",
    "    # Count trainable parameters\n",
    "    trainable_params = sum(p.numel() for p in model.parameters() if p.requires_grad)\n",
    "    total_params = sum(p.numel() for p in model.parameters())\n",
    "    \n",
    "    if args.frozen:\n",
    "        print(\"🧊 Backbone frozen - only fine-tuning classifier\")\n",
    "    \n",
    "    print(f\"Total parameters: {total_params:,}\")\n",
    "    print(f\"Trainable parameters: {trainable_params:,}\")\n",
    "    \n",
    "    return model.to(device)\n",
    "\n",
    "# Test model creation\n",
    "test_model = create_model()\n",
    "print(f\"✅ Model ready for training!\")"
   ]
  },
  {
   "cell_type": "code",
   "execution_count": null,
   "id": "a0926f46",
   "metadata": {},
   "outputs": [
    {
     "name": "stdout",
     "output_type": "stream",
     "text": [
      "✅ Enhanced training functions defined with detailed logging and model saving\n"
     ]
    }
   ],
   "source": [
    "# Custom Dataset for K-Fold\n",
    "class ADHDKFoldDataset(Dataset):\n",
    "    def __init__(self, data, labels):\n",
    "        self.data = torch.FloatTensor(data)\n",
    "        self.labels = torch.LongTensor(labels)\n",
    "    \n",
    "    def __len__(self):\n",
    "        return len(self.data)\n",
    "    \n",
    "    def __getitem__(self, idx):\n",
    "        return self.data[idx], self.labels[idx]\n",
    "\n",
    "# Training function for one fold with detailed logging and model saving\n",
    "def train_one_fold(model, train_loader, val_loader, fold_num, epochs=5):\n",
    "    \"\"\"Train model for one fold with detailed logging and best model saving\"\"\"\n",
    "    criterion = nn.CrossEntropyLoss()\n",
    "    optimizer = torch.optim.Adam(\n",
    "        filter(lambda p: p.requires_grad, model.parameters()), \n",
    "        lr=0.001\n",
    "    )\n",
    "    \n",
    "    fold_results = {\n",
    "        'train_loss': [], 'train_acc': [],\n",
    "        'val_loss': [], 'val_acc': []\n",
    "    }\n",
    "    \n",
    "    # Best model tracking\n",
    "    best_val_acc = 0.0\n",
    "    best_model_state = None\n",
    "    \n",
    "    print(f\"\\n🚀 Training Fold {fold_num}\")\n",
    "    print(f\"{'='*60}\")\n",
    "    print(f\"{'Epoch':<6}{'Train Loss':<12}{'Train Acc':<12}{'Val Loss':<12}{'Val Acc':<12}{'Best':<6}\")\n",
    "    print(f\"{'='*60}\")\n",
    "    \n",
    "    for epoch in range(epochs):\n",
    "        # Training phase\n",
    "        model.train()\n",
    "        train_loss, train_correct, train_total = 0, 0, 0\n",
    "        \n",
    "        train_pbar = tqdm(train_loader, desc=f\"Epoch {epoch+1}/{epochs} - Training\", \n",
    "                         leave=False, ncols=100)\n",
    "        \n",
    "        for batch_idx, (data, target) in enumerate(train_pbar):\n",
    "            data, target = data.to(device), target.to(device)\n",
    "            \n",
    "            optimizer.zero_grad()\n",
    "            output = model(data)\n",
    "            loss = criterion(output, target)\n",
    "            loss.backward()\n",
    "            optimizer.step()\n",
    "            \n",
    "            train_loss += loss.item()\n",
    "            pred = output.argmax(dim=1)\n",
    "            train_correct += pred.eq(target).sum().item()\n",
    "            train_total += target.size(0)\n",
    "            \n",
    "            # Update progress bar with current metrics\n",
    "            current_acc = train_correct / train_total\n",
    "            train_pbar.set_postfix({\n",
    "                'Loss': f'{loss.item():.4f}',\n",
    "                'Acc': f'{current_acc:.4f}'\n",
    "            })\n",
    "        \n",
    "        # Validation phase\n",
    "        model.eval()\n",
    "        val_loss, val_correct, val_total = 0, 0, 0\n",
    "        \n",
    "        val_pbar = tqdm(val_loader, desc=f\"Epoch {epoch+1}/{epochs} - Validation\", \n",
    "                       leave=False, ncols=100)\n",
    "        \n",
    "        with torch.no_grad():\n",
    "            for data, target in val_pbar:\n",
    "                data, target = data.to(device), target.to(device)\n",
    "                output = model(data)\n",
    "                loss = criterion(output, target)\n",
    "                \n",
    "                val_loss += loss.item()\n",
    "                pred = output.argmax(dim=1)\n",
    "                val_correct += pred.eq(target).sum().item()\n",
    "                val_total += target.size(0)\n",
    "                \n",
    "                # Update progress bar\n",
    "                current_acc = val_correct / val_total\n",
    "                val_pbar.set_postfix({\n",
    "                    'Loss': f'{loss.item():.4f}',\n",
    "                    'Acc': f'{current_acc:.4f}'\n",
    "                })\n",
    "        \n",
    "        # Calculate metrics\n",
    "        train_acc = train_correct / train_total\n",
    "        val_acc = val_correct / val_total\n",
    "        avg_train_loss = train_loss / len(train_loader)\n",
    "        avg_val_loss = val_loss / len(val_loader)\n",
    "        \n",
    "        fold_results['train_loss'].append(avg_train_loss)\n",
    "        fold_results['train_acc'].append(train_acc)\n",
    "        fold_results['val_loss'].append(avg_val_loss)\n",
    "        fold_results['val_acc'].append(val_acc)\n",
    "        \n",
    "        # Check if this is the best model so far\n",
    "        is_best = val_acc > best_val_acc\n",
    "        if is_best:\n",
    "            best_val_acc = val_acc\n",
    "            best_model_state = model.state_dict().copy()\n",
    "            best_marker = \"⭐ NEW\"\n",
    "        else:\n",
    "            best_marker = \"\"\n",
    "        \n",
    "        # Print detailed epoch results\n",
    "        print(f\"{epoch+1:<6}{avg_train_loss:<12.4f}{train_acc:<12.4f}{avg_val_loss:<12.4f}{val_acc:<12.4f}{best_marker:<6}\")\n",
    "    \n",
    "    print(f\"{'='*60}\")\n",
    "    print(f\"🏆 Best Validation Accuracy: {best_val_acc:.4f}\")\n",
    "    \n",
    "    # Load best model state back to the model for evaluation\n",
    "    if best_model_state is not None:\n",
    "        model.load_state_dict(best_model_state)\n",
    "        print(\"✅ Best model state loaded for evaluation\")\n",
    "    \n",
    "    return fold_results, best_model_state, best_val_acc\n",
    "\n",
    "print(\"✅ Enhanced training functions defined with detailed logging (single save location)\")"
   ]
  },
  {
   "cell_type": "code",
   "execution_count": 6,
   "id": "de62c50d",
   "metadata": {},
   "outputs": [
    {
     "name": "stdout",
     "output_type": "stream",
     "text": [
      "🔄 Starting 5-Fold Cross Validation with FULL Dataset...\n",
      "📊 Total samples: 50,000\n",
      "💾 Dataset memory usage: 0.00 GB\n",
      "🎯 Expected significant performance improvement with full data!\n",
      "\n",
      "🔥🔥🔥🔥🔥🔥🔥🔥🔥🔥🔥🔥🔥🔥🔥🔥🔥🔥🔥🔥 FOLD 1/5 🔥🔥🔥🔥🔥🔥🔥🔥🔥🔥🔥🔥🔥🔥🔥🔥🔥🔥🔥🔥\n",
      "Fold start time: 2025-10-06 01:53:35\n",
      "📊 Data Split:\n",
      "  Train: 40,000 samples (ADHD: 17,774, Control: 22,226)\n",
      "  Val:   10,000 samples (ADHD: 4,443, Control: 5,557)\n",
      "  Train ADHD ratio: 0.444, Val ADHD ratio: 0.444\n",
      "📦 Batch size: 64 (Train batches: 625, Val batches: 157)\n",
      "Loading pretrained weights from: ./pretrained_weights/pretrained_weights.pth\n",
      "Pretrained weights loaded successfully!\n",
      "✅ Model created successfully\n",
      "🧊 Backbone frozen - only fine-tuning classifier\n",
      "Total parameters: 4,884,202\n",
      "Trainable parameters: 402\n",
      "\n",
      "🚀 Training Fold 1\n",
      "============================================================\n",
      "Epoch Train Loss  Train Acc   Val Loss    Val Acc     Best  \n",
      "============================================================\n"
     ]
    },
    {
     "name": "stderr",
     "output_type": "stream",
     "text": [
      "                                                                                                    \r"
     ]
    },
    {
     "name": "stdout",
     "output_type": "stream",
     "text": [
      "1     0.6813      0.5670      0.6846      0.5635      ⭐ NEW \n"
     ]
    },
    {
     "name": "stderr",
     "output_type": "stream",
     "text": [
      "                                                                                                    \r"
     ]
    },
    {
     "name": "stdout",
     "output_type": "stream",
     "text": [
      "2     0.6746      0.5809      0.6823      0.5672      ⭐ NEW \n"
     ]
    },
    {
     "name": "stderr",
     "output_type": "stream",
     "text": [
      "                                                                                                    \r"
     ]
    },
    {
     "name": "stdout",
     "output_type": "stream",
     "text": [
      "3     0.6735      0.5841      0.6830      0.5715      ⭐ NEW \n"
     ]
    },
    {
     "name": "stderr",
     "output_type": "stream",
     "text": [
      "                                                                                                    \r"
     ]
    },
    {
     "name": "stdout",
     "output_type": "stream",
     "text": [
      "4     0.6722      0.5841      0.6809      0.5682            \n"
     ]
    },
    {
     "name": "stderr",
     "output_type": "stream",
     "text": [
      "                                                                                                    "
     ]
    },
    {
     "name": "stdout",
     "output_type": "stream",
     "text": [
      "5     0.6727      0.5863      0.6801      0.5743      ⭐ NEW \n",
      "============================================================\n",
      "🏆 Best Validation Accuracy: 0.5743\n",
      "💾 Best model saved: ./best_model_fold_1.pth\n",
      "✅ Best model state loaded for evaluation\n",
      "\n",
      "📊 Final Evaluation for Fold 1...\n"
     ]
    },
    {
     "name": "stderr",
     "output_type": "stream",
     "text": [
      "                                                                                                    "
     ]
    },
    {
     "name": "stdout",
     "output_type": "stream",
     "text": [
      "\n",
      "🎯 FOLD 1 FINAL RESULTS:\n",
      "==================================================\n",
      "  Accuracy: 0.5743\n",
      "  F1-Score: 0.5330\n",
      "  Kappa:    0.0883\n",
      "  Training Time: 1.22 minutes\n",
      "==================================================\n",
      "💾 Fold model saved: ./saved_models/best_model_fold_1.pth\n",
      "⏱️  Elapsed: 1.2min, Estimated remaining: 4.9min\n",
      "\n",
      "🔥🔥🔥🔥🔥🔥🔥🔥🔥🔥🔥🔥🔥🔥🔥🔥🔥🔥🔥🔥 FOLD 2/5 🔥🔥🔥🔥🔥🔥🔥🔥🔥🔥🔥🔥🔥🔥🔥🔥🔥🔥🔥🔥\n",
      "Fold start time: 2025-10-06 01:54:49\n",
      "📊 Data Split:\n",
      "  Train: 40,000 samples (ADHD: 17,774, Control: 22,226)\n",
      "  Val:   10,000 samples (ADHD: 4,443, Control: 5,557)\n",
      "  Train ADHD ratio: 0.444, Val ADHD ratio: 0.444\n",
      "📦 Batch size: 64 (Train batches: 625, Val batches: 157)\n",
      "Loading pretrained weights from: ./pretrained_weights/pretrained_weights.pth\n",
      "Pretrained weights loaded successfully!\n",
      "✅ Model created successfully\n",
      "🧊 Backbone frozen - only fine-tuning classifier\n",
      "Total parameters: 4,884,202\n",
      "Trainable parameters: 402\n",
      "\n",
      "🚀 Training Fold 2\n",
      "============================================================\n",
      "Epoch Train Loss  Train Acc   Val Loss    Val Acc     Best  \n",
      "============================================================\n"
     ]
    },
    {
     "name": "stderr",
     "output_type": "stream",
     "text": [
      "                                                                                                    \r"
     ]
    },
    {
     "name": "stdout",
     "output_type": "stream",
     "text": [
      "1     0.6799      0.5692      0.6827      0.5739      ⭐ NEW \n"
     ]
    },
    {
     "name": "stderr",
     "output_type": "stream",
     "text": [
      "                                                                                                    "
     ]
    },
    {
     "name": "stdout",
     "output_type": "stream",
     "text": [
      "2     0.6746      0.5838      0.6803      0.5759      ⭐ NEW \n"
     ]
    },
    {
     "name": "stderr",
     "output_type": "stream",
     "text": [
      "                                                                                                    \r"
     ]
    },
    {
     "name": "stdout",
     "output_type": "stream",
     "text": [
      "3     0.6729      0.5854      0.6818      0.5758            \n"
     ]
    },
    {
     "name": "stderr",
     "output_type": "stream",
     "text": [
      "                                                                                                    \r"
     ]
    },
    {
     "name": "stdout",
     "output_type": "stream",
     "text": [
      "4     0.6724      0.5848      0.6779      0.5799      ⭐ NEW \n"
     ]
    },
    {
     "name": "stderr",
     "output_type": "stream",
     "text": [
      "                                                                                                    "
     ]
    },
    {
     "name": "stdout",
     "output_type": "stream",
     "text": [
      "5     0.6724      0.5826      0.6760      0.5783            \n",
      "============================================================\n",
      "🏆 Best Validation Accuracy: 0.5799\n",
      "💾 Best model saved: ./best_model_fold_2.pth\n",
      "✅ Best model state loaded for evaluation\n",
      "\n",
      "📊 Final Evaluation for Fold 2...\n"
     ]
    },
    {
     "name": "stderr",
     "output_type": "stream",
     "text": [
      "                                                                                                    "
     ]
    },
    {
     "name": "stdout",
     "output_type": "stream",
     "text": [
      "\n",
      "🎯 FOLD 2 FINAL RESULTS:\n",
      "==================================================\n",
      "  Accuracy: 0.5783\n",
      "  F1-Score: 0.5362\n",
      "  Kappa:    0.0961\n",
      "  Training Time: 1.07 minutes\n",
      "==================================================\n",
      "💾 Fold model saved: ./saved_models/best_model_fold_2.pth\n",
      "⏱️  Elapsed: 2.3min, Estimated remaining: 3.4min\n",
      "\n",
      "🔥🔥🔥🔥🔥🔥🔥🔥🔥🔥🔥🔥🔥🔥🔥🔥🔥🔥🔥🔥 FOLD 3/5 🔥🔥🔥🔥🔥🔥🔥🔥🔥🔥🔥🔥🔥🔥🔥🔥🔥🔥🔥🔥\n",
      "Fold start time: 2025-10-06 01:55:53\n",
      "📊 Data Split:\n",
      "  Train: 40,000 samples (ADHD: 17,774, Control: 22,226)\n",
      "  Val:   10,000 samples (ADHD: 4,443, Control: 5,557)\n",
      "  Train ADHD ratio: 0.444, Val ADHD ratio: 0.444\n",
      "📦 Batch size: 64 (Train batches: 625, Val batches: 157)\n",
      "Loading pretrained weights from: ./pretrained_weights/pretrained_weights.pth\n",
      "Pretrained weights loaded successfully!\n",
      "✅ Model created successfully\n",
      "🧊 Backbone frozen - only fine-tuning classifier\n",
      "Total parameters: 4,884,202\n",
      "Trainable parameters: 402\n",
      "\n",
      "🚀 Training Fold 3\n",
      "============================================================\n",
      "Epoch Train Loss  Train Acc   Val Loss    Val Acc     Best  \n",
      "============================================================\n"
     ]
    },
    {
     "name": "stderr",
     "output_type": "stream",
     "text": [
      "                                                                                                    \r"
     ]
    },
    {
     "name": "stdout",
     "output_type": "stream",
     "text": [
      "1     0.6808      0.5683      0.6834      0.5566      ⭐ NEW \n"
     ]
    },
    {
     "name": "stderr",
     "output_type": "stream",
     "text": [
      "                                                                                                    \r"
     ]
    },
    {
     "name": "stdout",
     "output_type": "stream",
     "text": [
      "2     0.6743      0.5819      0.6818      0.5603      ⭐ NEW \n"
     ]
    },
    {
     "name": "stderr",
     "output_type": "stream",
     "text": [
      "                                                                                                    \r"
     ]
    },
    {
     "name": "stdout",
     "output_type": "stream",
     "text": [
      "3     0.6725      0.5821      0.6829      0.5618      ⭐ NEW \n"
     ]
    },
    {
     "name": "stderr",
     "output_type": "stream",
     "text": [
      "                                                                                                    \r"
     ]
    },
    {
     "name": "stdout",
     "output_type": "stream",
     "text": [
      "4     0.6728      0.5866      0.6793      0.5645      ⭐ NEW \n"
     ]
    },
    {
     "name": "stderr",
     "output_type": "stream",
     "text": [
      "                                                                                                    "
     ]
    },
    {
     "name": "stdout",
     "output_type": "stream",
     "text": [
      "5     0.6719      0.5860      0.6778      0.5673      ⭐ NEW \n",
      "============================================================\n",
      "🏆 Best Validation Accuracy: 0.5673\n",
      "💾 Best model saved: ./best_model_fold_3.pth\n",
      "✅ Best model state loaded for evaluation\n",
      "\n",
      "📊 Final Evaluation for Fold 3...\n"
     ]
    },
    {
     "name": "stderr",
     "output_type": "stream",
     "text": [
      "                                                                                                    "
     ]
    },
    {
     "name": "stdout",
     "output_type": "stream",
     "text": [
      "\n",
      "🎯 FOLD 3 FINAL RESULTS:\n",
      "==================================================\n",
      "  Accuracy: 0.5673\n",
      "  F1-Score: 0.5496\n",
      "  Kappa:    0.0936\n",
      "  Training Time: 1.87 minutes\n",
      "==================================================\n",
      "💾 Fold model saved: ./saved_models/best_model_fold_3.pth\n",
      "⏱️  Elapsed: 4.2min, Estimated remaining: 2.8min\n",
      "\n",
      "🔥🔥🔥🔥🔥🔥🔥🔥🔥🔥🔥🔥🔥🔥🔥🔥🔥🔥🔥🔥 FOLD 4/5 🔥🔥🔥🔥🔥🔥🔥🔥🔥🔥🔥🔥🔥🔥🔥🔥🔥🔥🔥🔥\n",
      "Fold start time: 2025-10-06 01:57:46\n",
      "📊 Data Split:\n",
      "  Train: 40,000 samples (ADHD: 17,773, Control: 22,227)\n",
      "  Val:   10,000 samples (ADHD: 4,444, Control: 5,556)\n",
      "  Train ADHD ratio: 0.444, Val ADHD ratio: 0.444\n",
      "📦 Batch size: 64 (Train batches: 625, Val batches: 157)\n",
      "Loading pretrained weights from: ./pretrained_weights/pretrained_weights.pth\n",
      "Pretrained weights loaded successfully!\n",
      "✅ Model created successfully\n",
      "🧊 Backbone frozen - only fine-tuning classifier\n",
      "Total parameters: 4,884,202\n",
      "Trainable parameters: 402\n",
      "\n",
      "🚀 Training Fold 4\n",
      "============================================================\n",
      "Epoch Train Loss  Train Acc   Val Loss    Val Acc     Best  \n",
      "============================================================\n",
      "Loading pretrained weights from: ./pretrained_weights/pretrained_weights.pth\n",
      "Pretrained weights loaded successfully!\n",
      "✅ Model created successfully\n",
      "🧊 Backbone frozen - only fine-tuning classifier\n",
      "Total parameters: 4,884,202\n",
      "Trainable parameters: 402\n",
      "\n",
      "🚀 Training Fold 4\n",
      "============================================================\n",
      "Epoch Train Loss  Train Acc   Val Loss    Val Acc     Best  \n",
      "============================================================\n"
     ]
    },
    {
     "name": "stderr",
     "output_type": "stream",
     "text": [
      "                                                                                                    \r"
     ]
    },
    {
     "name": "stdout",
     "output_type": "stream",
     "text": [
      "1     0.6804      0.5671      0.6819      0.5616      ⭐ NEW \n"
     ]
    },
    {
     "name": "stderr",
     "output_type": "stream",
     "text": [
      "                                                                                                    "
     ]
    },
    {
     "name": "stdout",
     "output_type": "stream",
     "text": [
      "2     0.6751      0.5797      0.6812      0.5667      ⭐ NEW \n"
     ]
    },
    {
     "name": "stderr",
     "output_type": "stream",
     "text": [
      "                                                                                                    \r"
     ]
    },
    {
     "name": "stdout",
     "output_type": "stream",
     "text": [
      "3     0.6739      0.5815      0.6792      0.5694      ⭐ NEW \n"
     ]
    },
    {
     "name": "stderr",
     "output_type": "stream",
     "text": [
      "                                                                                                    \r"
     ]
    },
    {
     "name": "stdout",
     "output_type": "stream",
     "text": [
      "4     0.6730      0.5849      0.6779      0.5702      ⭐ NEW \n"
     ]
    },
    {
     "name": "stderr",
     "output_type": "stream",
     "text": [
      "                                                                                                    "
     ]
    },
    {
     "name": "stdout",
     "output_type": "stream",
     "text": [
      "5     0.6739      0.5844      0.6757      0.5752      ⭐ NEW \n",
      "============================================================\n",
      "🏆 Best Validation Accuracy: 0.5752\n",
      "💾 Best model saved: ./best_model_fold_4.pth\n",
      "✅ Best model state loaded for evaluation\n",
      "\n",
      "📊 Final Evaluation for Fold 4...\n"
     ]
    },
    {
     "name": "stderr",
     "output_type": "stream",
     "text": [
      "                                                                                                    "
     ]
    },
    {
     "name": "stdout",
     "output_type": "stream",
     "text": [
      "\n",
      "🎯 FOLD 4 FINAL RESULTS:\n",
      "==================================================\n",
      "  Accuracy: 0.5752\n",
      "  F1-Score: 0.5543\n",
      "  Kappa:    0.1066\n",
      "  Training Time: 1.55 minutes\n",
      "==================================================\n",
      "💾 Fold model saved: ./saved_models/best_model_fold_4.pth\n",
      "⏱️  Elapsed: 5.7min, Estimated remaining: 1.4min\n",
      "\n",
      "🔥🔥🔥🔥🔥🔥🔥🔥🔥🔥🔥🔥🔥🔥🔥🔥🔥🔥🔥🔥 FOLD 5/5 🔥🔥🔥🔥🔥🔥🔥🔥🔥🔥🔥🔥🔥🔥🔥🔥🔥🔥🔥🔥\n",
      "Fold start time: 2025-10-06 01:59:18\n",
      "📊 Data Split:\n",
      "  Train: 40,000 samples (ADHD: 17,773, Control: 22,227)\n",
      "  Val:   10,000 samples (ADHD: 4,444, Control: 5,556)\n",
      "  Train ADHD ratio: 0.444, Val ADHD ratio: 0.444\n",
      "📦 Batch size: 64 (Train batches: 625, Val batches: 157)\n",
      "Loading pretrained weights from: ./pretrained_weights/pretrained_weights.pth\n",
      "Pretrained weights loaded successfully!\n",
      "✅ Model created successfully\n",
      "🧊 Backbone frozen - only fine-tuning classifier\n",
      "Total parameters: 4,884,202\n",
      "Trainable parameters: 402\n",
      "\n",
      "🚀 Training Fold 5\n",
      "============================================================\n",
      "Epoch Train Loss  Train Acc   Val Loss    Val Acc     Best  \n",
      "============================================================\n"
     ]
    },
    {
     "name": "stderr",
     "output_type": "stream",
     "text": [
      "                                                                                                    \r"
     ]
    },
    {
     "name": "stdout",
     "output_type": "stream",
     "text": [
      "1     0.6801      0.5682      0.6845      0.5565      ⭐ NEW \n"
     ]
    },
    {
     "name": "stderr",
     "output_type": "stream",
     "text": [
      "                                                                                                    \r"
     ]
    },
    {
     "name": "stdout",
     "output_type": "stream",
     "text": [
      "2     0.6756      0.5810      0.6845      0.5583      ⭐ NEW \n"
     ]
    },
    {
     "name": "stderr",
     "output_type": "stream",
     "text": [
      "                                                                                                    \r"
     ]
    },
    {
     "name": "stdout",
     "output_type": "stream",
     "text": [
      "3     0.6742      0.5827      0.6833      0.5612      ⭐ NEW \n"
     ]
    },
    {
     "name": "stderr",
     "output_type": "stream",
     "text": [
      "                                                                                                    \r"
     ]
    },
    {
     "name": "stdout",
     "output_type": "stream",
     "text": [
      "4     0.6723      0.5865      0.6839      0.5644      ⭐ NEW \n"
     ]
    },
    {
     "name": "stderr",
     "output_type": "stream",
     "text": [
      "                                                                                                    \r"
     ]
    },
    {
     "name": "stdout",
     "output_type": "stream",
     "text": [
      "5     0.6732      0.5861      0.6798      0.5707      ⭐ NEW \n",
      "============================================================\n",
      "🏆 Best Validation Accuracy: 0.5707\n",
      "💾 Best model saved: ./best_model_fold_5.pth\n",
      "✅ Best model state loaded for evaluation\n",
      "\n",
      "📊 Final Evaluation for Fold 5...\n"
     ]
    },
    {
     "name": "stderr",
     "output_type": "stream",
     "text": [
      "                                                                                                    \r"
     ]
    },
    {
     "name": "stdout",
     "output_type": "stream",
     "text": [
      "\n",
      "🎯 FOLD 5 FINAL RESULTS:\n",
      "==================================================\n",
      "  Accuracy: 0.5707\n",
      "  F1-Score: 0.5357\n",
      "  Kappa:    0.0854\n",
      "  Training Time: 1.10 minutes\n",
      "==================================================\n",
      "💾 Fold model saved: ./saved_models/best_model_fold_5.pth\n",
      "⏱️  Elapsed: 6.8min, Estimated remaining: 0.0min\n",
      "\n",
      "🎉🎉🎉🎉🎉🎉🎉🎉🎉🎉🎉🎉🎉🎉🎉 CROSS-VALIDATION COMPLETED 🎉🎉🎉🎉🎉🎉🎉🎉🎉🎉🎉🎉🎉🎉🎉\n",
      "⏱️  Total training time: 6.81 minutes (0.11 hours)\n",
      "📊 Total samples processed: 50,000\n",
      "💾 All models saved in: ./saved_models/\n"
     ]
    }
   ],
   "source": [
    "# 5-Fold Cross Validation with Enhanced Logging and Model Saving\n",
    "def evaluate_model(model, test_loader):\n",
    "    \"\"\"Evaluate model and return detailed metrics\"\"\"\n",
    "    model.eval()\n",
    "    all_preds = []\n",
    "    all_labels = []\n",
    "    \n",
    "    eval_pbar = tqdm(test_loader, desc=\"Evaluating\", leave=False, ncols=100)\n",
    "    \n",
    "    with torch.no_grad():\n",
    "        for data, target in eval_pbar:\n",
    "            data, target = data.to(device), target.to(device)\n",
    "            output = model(data)\n",
    "            pred = output.argmax(dim=1)\n",
    "            \n",
    "            all_preds.extend(pred.cpu().numpy())\n",
    "            all_labels.extend(target.cpu().numpy())\n",
    "    \n",
    "    accuracy = accuracy_score(all_labels, all_preds)\n",
    "    f1 = f1_score(all_labels, all_preds, average='weighted')\n",
    "    kappa = cohen_kappa_score(all_labels, all_preds)\n",
    "    \n",
    "    return accuracy, f1, kappa, all_labels, all_preds\n",
    "\n",
    "# Initialize K-Fold\n",
    "kfold = StratifiedKFold(n_splits=5, shuffle=True, random_state=3407)\n",
    "fold_results = []\n",
    "\n",
    "print(\"🔄 Starting 5-Fold Cross Validation with FULL Dataset...\")\n",
    "print(f\"📊 Total samples: {len(all_samples):,}\")\n",
    "print(f\"💾 Dataset memory usage: {all_samples.nbytes / (1024**3):.2f} GB\")\n",
    "print(f\"🎯 Expected significant performance improvement with full data!\")\n",
    "\n",
    "# Create directory for saving models\n",
    "import os\n",
    "os.makedirs(\"./saved_models\", exist_ok=True)\n",
    "\n",
    "start_time = time.time() if 'time' in globals() else None\n",
    "if start_time is None:\n",
    "    import time\n",
    "    start_time = time.time()\n",
    "\n",
    "for fold, (train_idx, val_idx) in enumerate(kfold.split(all_samples, all_labels)):\n",
    "    fold_start_time = time.time()\n",
    "    \n",
    "    print(f\"\\n{'🔥'*20} FOLD {fold + 1}/5 {'🔥'*20}\")\n",
    "    print(f\"Fold start time: {time.strftime('%Y-%m-%d %H:%M:%S', time.localtime())}\")\n",
    "    \n",
    "    # Split data\n",
    "    X_train, X_val = all_samples[train_idx], all_samples[val_idx]\n",
    "    y_train, y_val = all_labels[train_idx], all_labels[val_idx]\n",
    "    \n",
    "    print(f\"📊 Data Split:\")\n",
    "    print(f\"  Train: {len(X_train):,} samples (ADHD: {np.sum(y_train):,}, Control: {len(y_train)-np.sum(y_train):,})\")\n",
    "    print(f\"  Val:   {len(X_val):,} samples (ADHD: {np.sum(y_val):,}, Control: {len(y_val)-np.sum(y_val):,})\")\n",
    "    \n",
    "    # Calculate class ratios\n",
    "    train_adhd_ratio = np.sum(y_train) / len(y_train)\n",
    "    val_adhd_ratio = np.sum(y_val) / len(y_val)\n",
    "    print(f\"  Train ADHD ratio: {train_adhd_ratio:.3f}, Val ADHD ratio: {val_adhd_ratio:.3f}\")\n",
    "    \n",
    "    # Create datasets and loaders\n",
    "    train_dataset = ADHDKFoldDataset(X_train, y_train)\n",
    "    val_dataset = ADHDKFoldDataset(X_val, y_val)\n",
    "    \n",
    "    # Fixed: Set num_workers=0 for Windows compatibility\n",
    "    batch_size = 64  # Increased from 32\n",
    "    train_loader = DataLoader(train_dataset, batch_size=batch_size, shuffle=True, num_workers=0)\n",
    "    val_loader = DataLoader(val_dataset, batch_size=batch_size, shuffle=False, num_workers=0)\n",
    "    \n",
    "    print(f\"📦 Batch size: {batch_size} (Train batches: {len(train_loader)}, Val batches: {len(val_loader)})\")\n",
    "    \n",
    "    # Create fresh model for this fold\n",
    "    model = create_model()\n",
    "    \n",
    "    # Train the model - now returns best_model_state and best_val_acc\n",
    "    training_history, best_model_state, best_val_acc = train_one_fold(model, train_loader, val_loader, fold + 1, epochs=5)\n",
    "    \n",
    "    # Evaluate the model\n",
    "    print(f\"\\n📊 Final Evaluation for Fold {fold + 1}...\")\n",
    "    accuracy, f1, kappa, true_labels, predictions = evaluate_model(model, val_loader)\n",
    "    \n",
    "    # Calculate fold training time\n",
    "    fold_time = time.time() - fold_start_time\n",
    "    \n",
    "    # Store results\n",
    "    fold_result = {\n",
    "        'fold': fold + 1,\n",
    "        'accuracy': accuracy,\n",
    "        'f1_score': f1,\n",
    "        'kappa': kappa,\n",
    "        'training_history': training_history,\n",
    "        'confusion_matrix': confusion_matrix(true_labels, predictions),\n",
    "        'training_time_minutes': fold_time / 60,\n",
    "        'samples_train': len(X_train),\n",
    "        'samples_val': len(X_val)\n",
    "    }\n",
    "    fold_results.append(fold_result)\n",
    "    \n",
    "    print(f\"\\n🎯 FOLD {fold + 1} FINAL RESULTS:\")\n",
    "    print(f\"{'='*50}\")\n",
    "    print(f\"  Accuracy: {accuracy:.4f}\")\n",
    "    print(f\"  F1-Score: {f1:.4f}\")\n",
    "    print(f\"  Kappa:    {kappa:.4f}\")\n",
    "    print(f\"  Training Time: {fold_time/60:.2f} minutes\")\n",
    "    print(f\"  Best Val Acc: {best_val_acc:.4f}\")\n",
    "    print(f\"{'='*50}\")\n",
    "    \n",
    "    # Save ONLY in saved_models directory with comprehensive info\n",
    "    fold_model_path = f\"./saved_models/best_model_fold_{fold+1}.pth\"\n",
    "    torch.save({\n",
    "        'fold': fold + 1,\n",
    "        'model_state_dict': best_model_state if best_model_state is not None else model.state_dict(),\n",
    "        'best_val_acc': best_val_acc,\n",
    "        'final_accuracy': accuracy,\n",
    "        'f1_score': f1,\n",
    "        'kappa': kappa,\n",
    "        'training_history': training_history,\n",
    "        'training_time_minutes': fold_time / 60,\n",
    "        'samples_train': len(X_train),\n",
    "        'samples_val': len(X_val),\n",
    "        'train_adhd_ratio': train_adhd_ratio,\n",
    "        'val_adhd_ratio': val_adhd_ratio,\n",
    "        'confusion_matrix': confusion_matrix(true_labels, predictions).tolist()\n",
    "    }, fold_model_path)\n",
    "    print(f\"💾 Best model saved: {fold_model_path}\")\n",
    "    \n",
    "    # Cleanup\n",
    "    del model\n",
    "    torch.cuda.empty_cache()\n",
    "    \n",
    "    # Progress update\n",
    "    elapsed_time = time.time() - start_time\n",
    "    avg_time_per_fold = elapsed_time / (fold + 1)\n",
    "    remaining_folds = 4 - fold\n",
    "    estimated_remaining = remaining_folds * avg_time_per_fold\n",
    "    \n",
    "    print(f\"⏱️  Elapsed: {elapsed_time/60:.1f}min, Estimated remaining: {estimated_remaining/60:.1f}min\")\n",
    "\n",
    "total_time = time.time() - start_time\n",
    "print(f\"\\n{'🎉'*15} CROSS-VALIDATION COMPLETED {'🎉'*15}\")\n",
    "print(f\"⏱️  Total training time: {total_time/60:.2f} minutes ({total_time/3600:.2f} hours)\")\n",
    "print(f\"📊 Total samples processed: {len(all_samples):,}\")\n",
    "print(f\"💾 All models saved ONLY in: ./saved_models/ (no duplicate saves)\")"
   ]
  },
  {
   "cell_type": "code",
   "execution_count": 7,
   "id": "597d750b",
   "metadata": {},
   "outputs": [
    {
     "name": "stdout",
     "output_type": "stream",
     "text": [
      "📈 COMPREHENSIVE CROSS-VALIDATION SUMMARY\n",
      "======================================================================\n",
      "Accuracy: 0.5732 ± 0.0038 (Range: 0.5673 - 0.5783)\n",
      "F1-Score: 0.5418 ± 0.0085 (Range: 0.5330 - 0.5543)\n",
      "Kappa:    0.0940 ± 0.0073 (Range: 0.0854 - 0.1066)\n",
      "Avg Training Time: 1.36 ± 0.31 minutes\n",
      "Total Training Time: 6.81 minutes (0.11 hours)\n",
      "======================================================================\n",
      "🎯 Performance vs Random Baseline: +14.6% improvement\n",
      "🏆 Best Fold: #2 (Accuracy: 0.5783, F1: 0.5362, Kappa: 0.0961)\n",
      "\n",
      "📋 DETAILED FOLD RESULTS\n",
      "------------------------------------------------------------------------------------------\n",
      "Fold  Accuracy    F1-Score    Kappa       Time(min)   Train Size  Val Size    \n",
      "------------------------------------------------------------------------------------------\n",
      "1     0.5743      0.5330      0.0883      1.22        40,000      10,000      \n",
      "2     0.5783      0.5362      0.0961      1.07        40,000      10,000      \n",
      "3     0.5673      0.5496      0.0936      1.87        40,000      10,000      \n",
      "4     0.5752      0.5543      0.1066      1.55        40,000      10,000      \n",
      "5     0.5707      0.5357      0.0854      1.10        40,000      10,000      \n",
      "------------------------------------------------------------------------------------------\n",
      "📊 Visualization saved: ./saved_models/cross_validation_results.png\n",
      "📊 Visualization saved: ./saved_models/cross_validation_results.png\n"
     ]
    },
    {
     "data": {
      "image/png": "[encoded data removed]",
      "text/plain": [
       "<Figure size 1800x1200 with 7 Axes>"
      ]
     },
     "metadata": {},
     "output_type": "display_data"
    },
    {
     "name": "stdout",
     "output_type": "stream",
     "text": [
      "\n",
      "💾 Results summary saved: ./saved_models/cross_validation_summary.json\n",
      "\n",
      "🎯 FINAL MODEL PERFORMANCE WITH FULL DATASET:\n",
      "============================================================\n",
      "Mean Accuracy: 0.5732 ± 0.0038\n",
      "Mean F1-Score: 0.5418 ± 0.0085\n",
      "Mean Kappa:    0.0940 ± 0.0073\n",
      "Best Fold Accuracy: 0.5783\n",
      "Total Training Time: 6.81 minutes\n",
      "Dataset Size: 50,000 samples (Full dataset!)\n",
      "============================================================\n",
      "🏆 All models and results saved in: ./saved_models/\n"
     ]
    }
   ],
   "source": [
    "# Results Analysis and Visualization with Model Summary\n",
    "def analyze_results(fold_results):\n",
    "    \"\"\"Analyze and visualize cross-validation results with enhanced reporting\"\"\"\n",
    "    \n",
    "    # Extract metrics\n",
    "    accuracies = [result['accuracy'] for result in fold_results]\n",
    "    f1_scores = [result['f1_score'] for result in fold_results]\n",
    "    kappas = [result['kappa'] for result in fold_results]\n",
    "    training_times = [result['training_time_minutes'] for result in fold_results]\n",
    "    \n",
    "    # Summary statistics\n",
    "    print(\"📈 COMPREHENSIVE CROSS-VALIDATION SUMMARY\")\n",
    "    print(\"=\"*70)\n",
    "    print(f\"Accuracy: {np.mean(accuracies):.4f} ± {np.std(accuracies):.4f} (Range: {np.min(accuracies):.4f} - {np.max(accuracies):.4f})\")\n",
    "    print(f\"F1-Score: {np.mean(f1_scores):.4f} ± {np.std(f1_scores):.4f} (Range: {np.min(f1_scores):.4f} - {np.max(f1_scores):.4f})\")\n",
    "    print(f\"Kappa:    {np.mean(kappas):.4f} ± {np.std(kappas):.4f} (Range: {np.min(kappas):.4f} - {np.max(kappas):.4f})\")\n",
    "    print(f\"Avg Training Time: {np.mean(training_times):.2f} ± {np.std(training_times):.2f} minutes\")\n",
    "    print(f\"Total Training Time: {np.sum(training_times):.2f} minutes ({np.sum(training_times)/60:.2f} hours)\")\n",
    "    print(\"=\"*70)\n",
    "    \n",
    "    # Performance improvement analysis\n",
    "    baseline_accuracy = 0.5  # Random baseline for binary classification\n",
    "    improvement = (np.mean(accuracies) - baseline_accuracy) / baseline_accuracy * 100\n",
    "    print(f\"🎯 Performance vs Random Baseline: +{improvement:.1f}% improvement\")\n",
    "    \n",
    "    # Find best fold\n",
    "    best_fold_idx = np.argmax(accuracies)\n",
    "    best_fold = fold_results[best_fold_idx]\n",
    "    print(f\"🏆 Best Fold: #{best_fold['fold']} (Accuracy: {best_fold['accuracy']:.4f}, F1: {best_fold['f1_score']:.4f}, Kappa: {best_fold['kappa']:.4f})\")\n",
    "    \n",
    "    # Detailed fold results table\n",
    "    print(\"\\n📋 DETAILED FOLD RESULTS\")\n",
    "    print(\"-\"*90)\n",
    "    print(f\"{'Fold':<6}{'Accuracy':<12}{'F1-Score':<12}{'Kappa':<12}{'Time(min)':<12}{'Train Size':<12}{'Val Size':<12}\")\n",
    "    print(\"-\"*90)\n",
    "    for i, result in enumerate(fold_results):\n",
    "        print(f\"{i+1:<6}{result['accuracy']:<12.4f}{result['f1_score']:<12.4f}{result['kappa']:<12.4f}\"\n",
    "              f\"{result['training_time_minutes']:<12.2f}{result['samples_train']:<12,}{result['samples_val']:<12,}\")\n",
    "    print(\"-\"*90)\n",
    "    \n",
    "    # Create enhanced visualizations\n",
    "    fig, axes = plt.subplots(2, 3, figsize=(18, 12))\n",
    "    \n",
    "    # 1. Metrics comparison across folds\n",
    "    folds = list(range(1, 6))\n",
    "    axes[0, 0].plot(folds, accuracies, 'o-', label='Accuracy', linewidth=3, markersize=10, color='#2E86AB')\n",
    "    axes[0, 0].plot(folds, f1_scores, 's-', label='F1-Score', linewidth=3, markersize=10, color='#A23B72')\n",
    "    axes[0, 0].plot(folds, kappas, '^-', label='Kappa', linewidth=3, markersize=10, color='#F18F01')\n",
    "    axes[0, 0].axhline(y=0.5, color='red', linestyle='--', alpha=0.7, label='Random Baseline')\n",
    "    axes[0, 0].set_xlabel('Fold', fontsize=12)\n",
    "    axes[0, 0].set_ylabel('Score', fontsize=12)\n",
    "    axes[0, 0].set_title('Performance Metrics Across Folds', fontsize=14, fontweight='bold')\n",
    "    axes[0, 0].legend(fontsize=11)\n",
    "    axes[0, 0].grid(True, alpha=0.3)\n",
    "    axes[0, 0].set_ylim(0, 1)\n",
    "    \n",
    "    # 2. Box plot of metrics\n",
    "    metrics_data = [accuracies, f1_scores, kappas]\n",
    "    bp = axes[0, 1].boxplot(metrics_data, labels=['Accuracy', 'F1-Score', 'Kappa'], patch_artist=True)\n",
    "    colors = ['#2E86AB', '#A23B72', '#F18F01']\n",
    "    for patch, color in zip(bp['boxes'], colors):\n",
    "        patch.set_facecolor(color)\n",
    "        patch.set_alpha(0.7)\n",
    "    axes[0, 1].set_title('Distribution of Metrics', fontsize=14, fontweight='bold')\n",
    "    axes[0, 1].set_ylabel('Score', fontsize=12)\n",
    "    axes[0, 1].grid(True, alpha=0.3)\n",
    "    \n",
    "    # 3. Training time per fold\n",
    "    axes[0, 2].bar(folds, training_times, color='#C73E1D', alpha=0.8)\n",
    "    axes[0, 2].set_xlabel('Fold', fontsize=12)\n",
    "    axes[0, 2].set_ylabel('Training Time (minutes)', fontsize=12)\n",
    "    axes[0, 2].set_title('Training Time per Fold', fontsize=14, fontweight='bold')\n",
    "    axes[0, 2].grid(True, alpha=0.3, axis='y')\n",
    "    \n",
    "    # 4. Training history for best fold\n",
    "    best_fold_history = fold_results[best_fold_idx]['training_history']\n",
    "    epochs = range(1, len(best_fold_history['train_acc']) + 1)\n",
    "    axes[1, 0].plot(epochs, best_fold_history['train_acc'], 'o-', label='Train Accuracy', linewidth=3, markersize=8)\n",
    "    axes[1, 0].plot(epochs, best_fold_history['val_acc'], 's-', label='Validation Accuracy', linewidth=3, markersize=8)\n",
    "    axes[1, 0].plot(epochs, best_fold_history['train_loss'], '^-', label='Train Loss', linewidth=2, markersize=6, alpha=0.7)\n",
    "    axes[1, 0].plot(epochs, best_fold_history['val_loss'], 'v-', label='Val Loss', linewidth=2, markersize=6, alpha=0.7)\n",
    "    axes[1, 0].set_xlabel('Epoch', fontsize=12)\n",
    "    axes[1, 0].set_ylabel('Accuracy / Loss', fontsize=12)\n",
    "    axes[1, 0].set_title(f'Training History (Best Fold #{best_fold[\"fold\"]})', fontsize=14, fontweight='bold')\n",
    "    axes[1, 0].legend(fontsize=10)\n",
    "    axes[1, 0].grid(True, alpha=0.3)\n",
    "    \n",
    "    # 5. Confusion matrix for best fold\n",
    "    cm = fold_results[best_fold_idx]['confusion_matrix']\n",
    "    sns.heatmap(cm, annot=True, fmt='d', cmap='Blues', \n",
    "                xticklabels=['Control', 'ADHD'], \n",
    "                yticklabels=['Control', 'ADHD'],\n",
    "                ax=axes[1, 1], cbar_kws={'label': 'Count'})\n",
    "    axes[1, 1].set_title(f'Confusion Matrix (Best Fold #{best_fold[\"fold\"]})', fontsize=14, fontweight='bold')\n",
    "    axes[1, 1].set_xlabel('Predicted', fontsize=12)\n",
    "    axes[1, 1].set_ylabel('Actual', fontsize=12)\n",
    "    \n",
    "    # 6. Performance comparison with error bars\n",
    "    metrics_names = ['Accuracy', 'F1-Score', 'Kappa']\n",
    "    means = [np.mean(accuracies), np.mean(f1_scores), np.mean(kappas)]\n",
    "    stds = [np.std(accuracies), np.std(f1_scores), np.std(kappas)]\n",
    "    \n",
    "    bars = axes[1, 2].bar(metrics_names, means, yerr=stds, capsize=10, \n",
    "                         color=['#2E86AB', '#A23B72', '#F18F01'], alpha=0.8)\n",
    "    axes[1, 2].set_ylabel('Score', fontsize=12)\n",
    "    axes[1, 2].set_title('Mean Performance ± Std Dev', fontsize=14, fontweight='bold')\n",
    "    axes[1, 2].grid(True, alpha=0.3, axis='y')\n",
    "    axes[1, 2].set_ylim(0, max(means) + max(stds) + 0.1)\n",
    "    \n",
    "    # Add value labels on bars\n",
    "    for bar, mean, std in zip(bars, means, stds):\n",
    "        height = bar.get_height()\n",
    "        axes[1, 2].text(bar.get_x() + bar.get_width()/2., height + std + 0.01,\n",
    "                       f'{mean:.3f}±{std:.3f}', ha='center', va='bottom', fontsize=10)\n",
    "    \n",
    "    plt.tight_layout()\n",
    "    plt.savefig('./saved_models/cross_validation_results.png', dpi=300, bbox_inches='tight')\n",
    "    print(f\"📊 Visualization saved: ./saved_models/cross_validation_results.png\")\n",
    "    plt.show()\n",
    "    \n",
    "    return {\n",
    "        'mean_accuracy': np.mean(accuracies),\n",
    "        'std_accuracy': np.std(accuracies),\n",
    "        'mean_f1': np.mean(f1_scores),\n",
    "        'std_f1': np.std(f1_scores),\n",
    "        'mean_kappa': np.mean(kappas),\n",
    "        'std_kappa': np.std(kappas),\n",
    "        'total_training_time': np.sum(training_times),\n",
    "        'best_fold': best_fold\n",
    "    }\n",
    "\n",
    "# Analyze the results\n",
    "final_results = analyze_results(fold_results)\n",
    "\n",
    "# Save comprehensive results summary\n",
    "results_summary = {\n",
    "    'experiment_info': {\n",
    "        'dataset_size': len(all_samples),\n",
    "        'num_folds': 5,\n",
    "        'frozen_backbone': True,\n",
    "        'batch_size': 64,\n",
    "        'epochs_per_fold': 5\n",
    "    },\n",
    "    'performance_metrics': final_results,\n",
    "    'fold_details': fold_results\n",
    "}\n",
    "\n",
    "import json\n",
    "results_file = './saved_models/cross_validation_summary.json'\n",
    "with open(results_file, 'w') as f:\n",
    "    # Convert numpy arrays to lists for JSON serialization\n",
    "    def convert_numpy(obj):\n",
    "        if isinstance(obj, np.ndarray):\n",
    "            return obj.tolist()\n",
    "        elif isinstance(obj, np.integer):\n",
    "            return int(obj)\n",
    "        elif isinstance(obj, np.floating):\n",
    "            return float(obj)\n",
    "        elif isinstance(obj, dict):\n",
    "            return {key: convert_numpy(value) for key, value in obj.items()}\n",
    "        elif isinstance(obj, list):\n",
    "            return [convert_numpy(item) for item in obj]\n",
    "        return obj\n",
    "    \n",
    "    json.dump(convert_numpy(results_summary), f, indent=2)\n",
    "\n",
    "print(f\"\\n💾 Results summary saved: {results_file}\")\n",
    "\n",
    "print(f\"\\n🎯 FINAL MODEL PERFORMANCE WITH FULL DATASET:\")\n",
    "print(f\"{'='*60}\")\n",
    "print(f\"Mean Accuracy: {final_results['mean_accuracy']:.4f} ± {final_results['std_accuracy']:.4f}\")\n",
    "print(f\"Mean F1-Score: {final_results['mean_f1']:.4f} ± {final_results['std_f1']:.4f}\")\n",
    "print(f\"Mean Kappa:    {final_results['mean_kappa']:.4f} ± {final_results['std_kappa']:.4f}\")\n",
    "print(f\"Best Fold Accuracy: {final_results['best_fold']['accuracy']:.4f}\")\n",
    "print(f\"Total Training Time: {final_results['total_training_time']:.2f} minutes\")\n",
    "print(f\"Dataset Size: {len(all_samples):,} samples (Full dataset!)\")\n",
    "print(f\"{'='*60}\")\n",
    "print(f\"🏆 All models and results saved in: ./saved_models/\")"
   ]
  },
  {
   "cell_type": "markdown",
   "id": "bb8c4401",
   "metadata": {},
   "source": [
    "## Summary\n",
    "\n",
    "This notebook implements 5-fold stratified cross-validation for CBraMod ADHD classification with the following key features:\n",
    "\n",
    "### ✅ **Completed Features:**\n",
    "- **Stratified K-Fold**: Ensures balanced ADHD/Control distribution across all folds\n",
    "- **Frozen Backbone**: Only fine-tunes the classifier layer for faster training (~3x speedup)\n",
    "- **Real Labels**: Uses actual ADHD/Control labels from the dataset (55.6%/44.4% distribution)\n",
    "- **Comprehensive Evaluation**: Accuracy, F1-score, and Cohen's Kappa for each fold\n",
    "- **Visualization**: Performance plots, training curves, and confusion matrices\n",
    "\n",
    "### 🎯 **Expected Performance:**\n",
    "- Training time: ~2-3 minutes per fold (vs 50 minutes with unfrozen backbone)\n",
    "- Total runtime: ~10-15 minutes for complete 5-fold CV\n",
    "- Memory efficient: GPU memory cleanup between folds\n",
    "\n",
    "### 🚀 **Usage:**\n",
    "1. Run all cells sequentially\n",
    "2. Monitor training progress with progress bars\n",
    "3. View detailed results and visualizations at the end\n",
    "4. Results saved in `fold_results` variable for further analysis\n",
    "\n",
    "### 📊 **Output Metrics:**\n",
    "- Mean ± Standard deviation for all metrics across 5 folds\n",
    "- Individual fold performance comparison\n",
    "- Training history visualization\n",
    "- Confusion matrix for model interpretation"
   ]
  }
 ],
 "metadata": {
  "kernelspec": {
   "display_name": "py310",
   "language": "python",
   "name": "python3"
  },
  "language_info": {
   "codemirror_mode": {
    "name": "ipython",
    "version": 3
   },
   "file_extension": ".py",
   "mimetype": "text/x-python",
   "name": "python",
   "nbconvert_exporter": "python",
   "pygments_lexer": "ipython3",
   "version": "3.10.18"
  }
 },
 "nbformat": 4,
 "nbformat_minor": 5
}
